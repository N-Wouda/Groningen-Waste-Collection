{
 "cells": [
  {
   "cell_type": "code",
   "execution_count": 1,
   "metadata": {},
   "outputs": [
    {
     "name": "stdout",
     "output_type": "stream",
     "text": [
      "c:\\Projects\\Groningen-Waste-Collection\n"
     ]
    }
   ],
   "source": [
    "%cd .."
   ]
  },
  {
   "cell_type": "markdown",
   "metadata": {},
   "source": [
    "# Managerial insights"
   ]
  },
  {
   "cell_type": "code",
   "execution_count": 2,
   "metadata": {},
   "outputs": [],
   "source": [
    "import glob\n",
    "import json\n",
    "\n",
    "import matplotlib as mpl\n",
    "import matplotlib.pyplot as plt\n",
    "import matplotlib.ticker as mtick\n",
    "import numpy as np\n",
    "import pandas as pd\n",
    "from matplotlib.lines import Line2D"
   ]
  },
  {
   "cell_type": "code",
   "execution_count": 3,
   "metadata": {},
   "outputs": [],
   "source": [
    "# For final compilation\n",
    "mpl.rcParams[\"text.usetex\"] = True\n",
    "mpl.rcParams[\"font.family\"] = \"Computer Modern Serif\""
   ]
  },
  {
   "cell_type": "markdown",
   "metadata": {},
   "source": [
    "## Helpers"
   ]
  },
  {
   "cell_type": "code",
   "execution_count": 4,
   "metadata": {},
   "outputs": [],
   "source": [
    "def load(files: list[str]) -> pd.DataFrame:\n",
    "    data = []\n",
    "    for file in files:\n",
    "        with open(file, \"r\") as fh:\n",
    "            data.append(json.load(fh))\n",
    "    \n",
    "    df = pd.DataFrame(data)\n",
    "    df[\"avg_route_duration\"] = pd.to_timedelta(df[\"avg_route_duration\"])\n",
    "    df[\"experiment\"] = range(1, len(files) + 1)\n",
    "\n",
    "    num_routes_day = df[\"avg_num_routes_per_day\"]\n",
    "    df[\"avg_distance\"] = df[\"avg_route_distance\"] * num_routes_day\n",
    "    df[\"avg_clusters\"] = df[\"avg_route_clusters\"] * num_routes_day\n",
    "    df[\"avg_stops\"] = df[\"avg_route_stops\"] * num_routes_day\n",
    "\n",
    "    return df"
   ]
  },
  {
   "cell_type": "code",
   "execution_count": 5,
   "metadata": {},
   "outputs": [],
   "source": [
    "def report(df: pd.DataFrame):\n",
    "    duration = df.avg_route_duration.mean() / np.timedelta64(1, \"h\")\n",
    "    avg_sl = df.avg_service_level.mean()\n",
    "    print(f\"Avg distance      : {df.avg_distance.mean() / 1_000:.1f} km\")\n",
    "    print(f\"Avg duration      : {duration:.1f} hours\")\n",
    "    print(f\"Avg service level : {100 * avg_sl:.1f}%\")\n",
    "    print(f\"Avg excess volume : {df.avg_excess_volume.mean():.1f} litres\")\n",
    "    print(f\"Avg clusters      : {df.avg_clusters.mean():.1f}\")\n",
    "    print(f\"Avg #routes       : {df.avg_num_routes_per_day.mean():.1f}\")\n",
    "    print(f\"Max #unserved     : {df.num_unserved_containers.max()}\")\n",
    "    print(f\"Avg fill rate     : {100 * df.avg_fill_factor.mean():.1f}%\")"
   ]
  },
  {
   "cell_type": "markdown",
   "metadata": {},
   "source": [
    "## Tuning\n",
    "\n",
    "Tuning $\\rho$ and $\\epsilon$."
   ]
  },
  {
   "cell_type": "code",
   "execution_count": 6,
   "metadata": {},
   "outputs": [],
   "source": [
    "tune = load([f\"out/tuning/prize_{idx}.json\" for idx in range(1, 89)])\n",
    "tune[\"rho\"] = np.repeat(1000 * 2 ** np.arange(8), 11)\n",
    "tune[\"epsilon\"] = 1 - np.tile(np.linspace(0.9, 1.0, num=11), 8)"
   ]
  },
  {
   "cell_type": "code",
   "execution_count": 7,
   "metadata": {},
   "outputs": [
    {
     "data": {
      "text/html": [
       "<div>\n",
       "<style scoped>\n",
       "    .dataframe tbody tr th:only-of-type {\n",
       "        vertical-align: middle;\n",
       "    }\n",
       "\n",
       "    .dataframe tbody tr th {\n",
       "        vertical-align: top;\n",
       "    }\n",
       "\n",
       "    .dataframe thead th {\n",
       "        text-align: right;\n",
       "    }\n",
       "</style>\n",
       "<table border=\"1\" class=\"dataframe\">\n",
       "  <thead>\n",
       "    <tr style=\"text-align: right;\">\n",
       "      <th>rho</th>\n",
       "      <th>1000</th>\n",
       "      <th>2000</th>\n",
       "      <th>4000</th>\n",
       "      <th>8000</th>\n",
       "      <th>16000</th>\n",
       "      <th>32000</th>\n",
       "      <th>64000</th>\n",
       "      <th>128000</th>\n",
       "    </tr>\n",
       "    <tr>\n",
       "      <th>epsilon</th>\n",
       "      <th></th>\n",
       "      <th></th>\n",
       "      <th></th>\n",
       "      <th></th>\n",
       "      <th></th>\n",
       "      <th></th>\n",
       "      <th></th>\n",
       "      <th></th>\n",
       "    </tr>\n",
       "  </thead>\n",
       "  <tbody>\n",
       "    <tr>\n",
       "      <th>0.00</th>\n",
       "      <td>78621.517711</td>\n",
       "      <td>98523.907357</td>\n",
       "      <td>109755.130790</td>\n",
       "      <td>120897.953678</td>\n",
       "      <td>129501.926431</td>\n",
       "      <td>134560.177112</td>\n",
       "      <td>138481.825613</td>\n",
       "      <td>139527.822888</td>\n",
       "    </tr>\n",
       "    <tr>\n",
       "      <th>0.01</th>\n",
       "      <td>111402.092643</td>\n",
       "      <td>115535.356948</td>\n",
       "      <td>120264.752044</td>\n",
       "      <td>124241.084469</td>\n",
       "      <td>129467.168937</td>\n",
       "      <td>134401.580381</td>\n",
       "      <td>139214.247956</td>\n",
       "      <td>143108.435967</td>\n",
       "    </tr>\n",
       "    <tr>\n",
       "      <th>0.02</th>\n",
       "      <td>112604.752044</td>\n",
       "      <td>116311.675749</td>\n",
       "      <td>119922.057221</td>\n",
       "      <td>124806.991826</td>\n",
       "      <td>130260.188011</td>\n",
       "      <td>134157.920981</td>\n",
       "      <td>138840.073569</td>\n",
       "      <td>140010.997275</td>\n",
       "    </tr>\n",
       "    <tr>\n",
       "      <th>0.03</th>\n",
       "      <td>113584.348774</td>\n",
       "      <td>117473.686649</td>\n",
       "      <td>120791.373297</td>\n",
       "      <td>124635.989101</td>\n",
       "      <td>129268.468665</td>\n",
       "      <td>134368.310627</td>\n",
       "      <td>137974.509537</td>\n",
       "      <td>140049.321526</td>\n",
       "    </tr>\n",
       "    <tr>\n",
       "      <th>0.04</th>\n",
       "      <td>114524.877384</td>\n",
       "      <td>117657.182561</td>\n",
       "      <td>120505.555858</td>\n",
       "      <td>124233.918256</td>\n",
       "      <td>130287.828338</td>\n",
       "      <td>133654.861035</td>\n",
       "      <td>138937.299728</td>\n",
       "      <td>139740.645777</td>\n",
       "    </tr>\n",
       "    <tr>\n",
       "      <th>0.05</th>\n",
       "      <td>114405.335150</td>\n",
       "      <td>117878.506812</td>\n",
       "      <td>120564.893733</td>\n",
       "      <td>124527.727520</td>\n",
       "      <td>130099.204360</td>\n",
       "      <td>133806.446866</td>\n",
       "      <td>137750.419619</td>\n",
       "      <td>140089.490463</td>\n",
       "    </tr>\n",
       "    <tr>\n",
       "      <th>0.06</th>\n",
       "      <td>115195.376022</td>\n",
       "      <td>118274.493188</td>\n",
       "      <td>121451.599455</td>\n",
       "      <td>126615.425068</td>\n",
       "      <td>130403.269755</td>\n",
       "      <td>134487.065395</td>\n",
       "      <td>137160.972752</td>\n",
       "      <td>139253.318801</td>\n",
       "    </tr>\n",
       "    <tr>\n",
       "      <th>0.07</th>\n",
       "      <td>115909.343324</td>\n",
       "      <td>118682.850136</td>\n",
       "      <td>122118.365123</td>\n",
       "      <td>125103.940054</td>\n",
       "      <td>129894.689373</td>\n",
       "      <td>134267.547684</td>\n",
       "      <td>137105.773842</td>\n",
       "      <td>139835.861035</td>\n",
       "    </tr>\n",
       "    <tr>\n",
       "      <th>0.08</th>\n",
       "      <td>115545.482289</td>\n",
       "      <td>118804.138965</td>\n",
       "      <td>122022.610354</td>\n",
       "      <td>125865.160763</td>\n",
       "      <td>130696.149864</td>\n",
       "      <td>133869.190736</td>\n",
       "      <td>137390.741144</td>\n",
       "      <td>141050.705722</td>\n",
       "    </tr>\n",
       "    <tr>\n",
       "      <th>0.09</th>\n",
       "      <td>117234.465940</td>\n",
       "      <td>118477.953678</td>\n",
       "      <td>121918.485014</td>\n",
       "      <td>125435.754768</td>\n",
       "      <td>130152.694823</td>\n",
       "      <td>133426.836512</td>\n",
       "      <td>137443.825613</td>\n",
       "      <td>141521.820163</td>\n",
       "    </tr>\n",
       "    <tr>\n",
       "      <th>0.10</th>\n",
       "      <td>117670.907357</td>\n",
       "      <td>119708.149864</td>\n",
       "      <td>122330.258856</td>\n",
       "      <td>124941.528610</td>\n",
       "      <td>129748.452316</td>\n",
       "      <td>133560.795640</td>\n",
       "      <td>137240.220708</td>\n",
       "      <td>141246.760218</td>\n",
       "    </tr>\n",
       "  </tbody>\n",
       "</table>\n",
       "</div>"
      ],
      "text/plain": [
       "rho             1000           2000           4000           8000    \\\n",
       "epsilon                                                               \n",
       "0.00      78621.517711   98523.907357  109755.130790  120897.953678   \n",
       "0.01     111402.092643  115535.356948  120264.752044  124241.084469   \n",
       "0.02     112604.752044  116311.675749  119922.057221  124806.991826   \n",
       "0.03     113584.348774  117473.686649  120791.373297  124635.989101   \n",
       "0.04     114524.877384  117657.182561  120505.555858  124233.918256   \n",
       "0.05     114405.335150  117878.506812  120564.893733  124527.727520   \n",
       "0.06     115195.376022  118274.493188  121451.599455  126615.425068   \n",
       "0.07     115909.343324  118682.850136  122118.365123  125103.940054   \n",
       "0.08     115545.482289  118804.138965  122022.610354  125865.160763   \n",
       "0.09     117234.465940  118477.953678  121918.485014  125435.754768   \n",
       "0.10     117670.907357  119708.149864  122330.258856  124941.528610   \n",
       "\n",
       "rho             16000          32000          64000          128000  \n",
       "epsilon                                                              \n",
       "0.00     129501.926431  134560.177112  138481.825613  139527.822888  \n",
       "0.01     129467.168937  134401.580381  139214.247956  143108.435967  \n",
       "0.02     130260.188011  134157.920981  138840.073569  140010.997275  \n",
       "0.03     129268.468665  134368.310627  137974.509537  140049.321526  \n",
       "0.04     130287.828338  133654.861035  138937.299728  139740.645777  \n",
       "0.05     130099.204360  133806.446866  137750.419619  140089.490463  \n",
       "0.06     130403.269755  134487.065395  137160.972752  139253.318801  \n",
       "0.07     129894.689373  134267.547684  137105.773842  139835.861035  \n",
       "0.08     130696.149864  133869.190736  137390.741144  141050.705722  \n",
       "0.09     130152.694823  133426.836512  137443.825613  141521.820163  \n",
       "0.10     129748.452316  133560.795640  137240.220708  141246.760218  "
      ]
     },
     "execution_count": 7,
     "metadata": {},
     "output_type": "execute_result"
    }
   ],
   "source": [
    "tune.pivot(index=\"epsilon\", columns=\"rho\", values=\"avg_distance\")"
   ]
  },
  {
   "cell_type": "code",
   "execution_count": 8,
   "metadata": {},
   "outputs": [
    {
     "data": {
      "text/html": [
       "<div>\n",
       "<style scoped>\n",
       "    .dataframe tbody tr th:only-of-type {\n",
       "        vertical-align: middle;\n",
       "    }\n",
       "\n",
       "    .dataframe tbody tr th {\n",
       "        vertical-align: top;\n",
       "    }\n",
       "\n",
       "    .dataframe thead th {\n",
       "        text-align: right;\n",
       "    }\n",
       "</style>\n",
       "<table border=\"1\" class=\"dataframe\">\n",
       "  <thead>\n",
       "    <tr style=\"text-align: right;\">\n",
       "      <th>rho</th>\n",
       "      <th>1000</th>\n",
       "      <th>2000</th>\n",
       "      <th>4000</th>\n",
       "      <th>8000</th>\n",
       "      <th>16000</th>\n",
       "      <th>32000</th>\n",
       "      <th>64000</th>\n",
       "      <th>128000</th>\n",
       "    </tr>\n",
       "    <tr>\n",
       "      <th>epsilon</th>\n",
       "      <th></th>\n",
       "      <th></th>\n",
       "      <th></th>\n",
       "      <th></th>\n",
       "      <th></th>\n",
       "      <th></th>\n",
       "      <th></th>\n",
       "      <th></th>\n",
       "    </tr>\n",
       "  </thead>\n",
       "  <tbody>\n",
       "    <tr>\n",
       "      <th>0.00</th>\n",
       "      <td>0.767297</td>\n",
       "      <td>0.905089</td>\n",
       "      <td>0.949112</td>\n",
       "      <td>0.971550</td>\n",
       "      <td>0.983066</td>\n",
       "      <td>0.989711</td>\n",
       "      <td>0.993198</td>\n",
       "      <td>0.995414</td>\n",
       "    </tr>\n",
       "    <tr>\n",
       "      <th>0.01</th>\n",
       "      <td>0.798426</td>\n",
       "      <td>0.902262</td>\n",
       "      <td>0.948045</td>\n",
       "      <td>0.970571</td>\n",
       "      <td>0.982931</td>\n",
       "      <td>0.990205</td>\n",
       "      <td>0.992929</td>\n",
       "      <td>0.995593</td>\n",
       "    </tr>\n",
       "    <tr>\n",
       "      <th>0.02</th>\n",
       "      <td>0.802288</td>\n",
       "      <td>0.904945</td>\n",
       "      <td>0.949843</td>\n",
       "      <td>0.970249</td>\n",
       "      <td>0.984270</td>\n",
       "      <td>0.989800</td>\n",
       "      <td>0.993727</td>\n",
       "      <td>0.995509</td>\n",
       "    </tr>\n",
       "    <tr>\n",
       "      <th>0.03</th>\n",
       "      <td>0.806891</td>\n",
       "      <td>0.904681</td>\n",
       "      <td>0.948437</td>\n",
       "      <td>0.970501</td>\n",
       "      <td>0.983632</td>\n",
       "      <td>0.989615</td>\n",
       "      <td>0.993419</td>\n",
       "      <td>0.995833</td>\n",
       "    </tr>\n",
       "    <tr>\n",
       "      <th>0.04</th>\n",
       "      <td>0.808433</td>\n",
       "      <td>0.905280</td>\n",
       "      <td>0.950183</td>\n",
       "      <td>0.971178</td>\n",
       "      <td>0.982834</td>\n",
       "      <td>0.990294</td>\n",
       "      <td>0.993432</td>\n",
       "      <td>0.995375</td>\n",
       "    </tr>\n",
       "    <tr>\n",
       "      <th>0.05</th>\n",
       "      <td>0.816850</td>\n",
       "      <td>0.904040</td>\n",
       "      <td>0.950918</td>\n",
       "      <td>0.970730</td>\n",
       "      <td>0.982806</td>\n",
       "      <td>0.989279</td>\n",
       "      <td>0.993134</td>\n",
       "      <td>0.996114</td>\n",
       "    </tr>\n",
       "    <tr>\n",
       "      <th>0.06</th>\n",
       "      <td>0.812650</td>\n",
       "      <td>0.908051</td>\n",
       "      <td>0.949724</td>\n",
       "      <td>0.970049</td>\n",
       "      <td>0.983528</td>\n",
       "      <td>0.989179</td>\n",
       "      <td>0.993321</td>\n",
       "      <td>0.995190</td>\n",
       "    </tr>\n",
       "    <tr>\n",
       "      <th>0.07</th>\n",
       "      <td>0.813343</td>\n",
       "      <td>0.908833</td>\n",
       "      <td>0.951717</td>\n",
       "      <td>0.971307</td>\n",
       "      <td>0.982239</td>\n",
       "      <td>0.989078</td>\n",
       "      <td>0.993928</td>\n",
       "      <td>0.996084</td>\n",
       "    </tr>\n",
       "    <tr>\n",
       "      <th>0.08</th>\n",
       "      <td>0.817795</td>\n",
       "      <td>0.909613</td>\n",
       "      <td>0.949297</td>\n",
       "      <td>0.972040</td>\n",
       "      <td>0.983336</td>\n",
       "      <td>0.989724</td>\n",
       "      <td>0.994035</td>\n",
       "      <td>0.995362</td>\n",
       "    </tr>\n",
       "    <tr>\n",
       "      <th>0.09</th>\n",
       "      <td>0.824593</td>\n",
       "      <td>0.910011</td>\n",
       "      <td>0.950734</td>\n",
       "      <td>0.971657</td>\n",
       "      <td>0.983746</td>\n",
       "      <td>0.989813</td>\n",
       "      <td>0.993197</td>\n",
       "      <td>0.995657</td>\n",
       "    </tr>\n",
       "    <tr>\n",
       "      <th>0.10</th>\n",
       "      <td>0.820914</td>\n",
       "      <td>0.908622</td>\n",
       "      <td>0.954332</td>\n",
       "      <td>0.972440</td>\n",
       "      <td>0.984415</td>\n",
       "      <td>0.989836</td>\n",
       "      <td>0.993437</td>\n",
       "      <td>0.994990</td>\n",
       "    </tr>\n",
       "  </tbody>\n",
       "</table>\n",
       "</div>"
      ],
      "text/plain": [
       "rho        1000      2000      4000      8000      16000     32000     64000   \\\n",
       "epsilon                                                                         \n",
       "0.00     0.767297  0.905089  0.949112  0.971550  0.983066  0.989711  0.993198   \n",
       "0.01     0.798426  0.902262  0.948045  0.970571  0.982931  0.990205  0.992929   \n",
       "0.02     0.802288  0.904945  0.949843  0.970249  0.984270  0.989800  0.993727   \n",
       "0.03     0.806891  0.904681  0.948437  0.970501  0.983632  0.989615  0.993419   \n",
       "0.04     0.808433  0.905280  0.950183  0.971178  0.982834  0.990294  0.993432   \n",
       "0.05     0.816850  0.904040  0.950918  0.970730  0.982806  0.989279  0.993134   \n",
       "0.06     0.812650  0.908051  0.949724  0.970049  0.983528  0.989179  0.993321   \n",
       "0.07     0.813343  0.908833  0.951717  0.971307  0.982239  0.989078  0.993928   \n",
       "0.08     0.817795  0.909613  0.949297  0.972040  0.983336  0.989724  0.994035   \n",
       "0.09     0.824593  0.910011  0.950734  0.971657  0.983746  0.989813  0.993197   \n",
       "0.10     0.820914  0.908622  0.954332  0.972440  0.984415  0.989836  0.993437   \n",
       "\n",
       "rho        128000  \n",
       "epsilon            \n",
       "0.00     0.995414  \n",
       "0.01     0.995593  \n",
       "0.02     0.995509  \n",
       "0.03     0.995833  \n",
       "0.04     0.995375  \n",
       "0.05     0.996114  \n",
       "0.06     0.995190  \n",
       "0.07     0.996084  \n",
       "0.08     0.995362  \n",
       "0.09     0.995657  \n",
       "0.10     0.994990  "
      ]
     },
     "execution_count": 8,
     "metadata": {},
     "output_type": "execute_result"
    }
   ],
   "source": [
    "tune.pivot(index=\"epsilon\", columns=\"rho\", values=\"avg_service_level\")"
   ]
  },
  {
   "cell_type": "code",
   "execution_count": 9,
   "metadata": {},
   "outputs": [
    {
     "data": {
      "image/png": "[encoded data removed]",
      "text/plain": [
       "<Figure size 800x400 with 2 Axes>"
      ]
     },
     "metadata": {},
     "output_type": "display_data"
    }
   ],
   "source": [
    "avg_distance = tune.pivot(\n",
    "    index=\"epsilon\",\n",
    "    columns=\"rho\",\n",
    "    values=\"avg_distance\",\n",
    ").to_numpy()\n",
    "\n",
    "avg_service_level = tune.pivot(\n",
    "    index=\"epsilon\",\n",
    "    columns=\"rho\",\n",
    "    values=\"avg_service_level\",\n",
    ").to_numpy()\n",
    "\n",
    "rhos = sorted(tune.rho.unique() // 1_000)\n",
    "epsilons = sorted(tune.epsilon.unique())\n",
    "\n",
    "fig, (ax1, ax2) = plt.subplots(\n",
    "    1,\n",
    "    2,\n",
    "    figsize=(8, 4),\n",
    "    sharey=True,\n",
    "    layout=\"constrained\",\n",
    ")\n",
    "\n",
    "\n",
    "def make_plot(ax, data, **kwargs):\n",
    "    ax.imshow(data, origin=\"lower\", aspect=\"auto\", **kwargs)\n",
    "\n",
    "    ax.set_xticks(np.arange(len(rhos)), labels=rhos)\n",
    "    ax.set_yticks(np.arange(len(epsilons)), labels=map(\"{:.2f}\".format, epsilons))\n",
    "\n",
    "    ax.set_xticks(np.arange(len(rhos)) - .5, minor=True)\n",
    "    ax.set_yticks(np.arange(len(epsilons) + 1) - .5, minor=True)\n",
    "    ax.grid(which=\"minor\", color=\"w\", linestyle=\"-\", linewidth=1)\n",
    "    ax.tick_params(which=\"minor\", bottom=False, left=False)\n",
    "\n",
    "\n",
    "make_plot(ax1, avg_distance, vmax=140_000, cmap=\"gray\")\n",
    "make_plot(ax2, avg_service_level, vmin=0.98, cmap=\"gray_r\")\n",
    "\n",
    "for i in range(len(epsilons)):\n",
    "    for j in range(len(rhos)):\n",
    "        ax1.text(\n",
    "            j,\n",
    "            i,\n",
    "            \"{:.0f}\".format(avg_distance[i, j] / 1_000),\n",
    "            ha=\"center\",\n",
    "            va=\"center\", \n",
    "            c=\"white\" if avg_distance[i, j] / 1_000 < 100 else \"black\",\n",
    "        )\n",
    "\n",
    "        ax2.text(\n",
    "            j,\n",
    "            i,\n",
    "            \"{:.0f}\\%\".format(100 * avg_service_level[i, j]),\n",
    "            ha=\"center\",\n",
    "            va=\"center\",\n",
    "            c=\"white\" if avg_service_level[i, j] >= 0.985 else \"black\",\n",
    "        )\n",
    "\n",
    "ax1.set_ylabel(\"$\\epsilon$\")\n",
    "ax1.set_xlabel(\"$\\\\rho$ (km)\")\n",
    "ax2.set_xlabel(\"$\\\\rho$ (km)\")\n",
    "\n",
    "ax1.set_title(\"Average daily distance (km)\")\n",
    "ax2.set_title(\"Average service level (\\%)\")\n",
    "\n",
    "plt.savefig(\"out/case_tuning.pdf\", transparent=True)"
   ]
  },
  {
   "cell_type": "markdown",
   "metadata": {},
   "source": [
    "## Results\n",
    "\n",
    "Results on various different instance sets."
   ]
  },
  {
   "cell_type": "code",
   "execution_count": 10,
   "metadata": {},
   "outputs": [],
   "source": [
    "baseline3 = load(sorted(glob.glob(\"out/results/baseline3_*.json\")))\n",
    "baseline200 = load(sorted(glob.glob(\"out/results/baseline200*.json\")))\n",
    "baseline250 = load(sorted(glob.glob(\"out/results/baseline250_*.json\")))"
   ]
  },
  {
   "cell_type": "code",
   "execution_count": 11,
   "metadata": {},
   "outputs": [],
   "source": [
    "prize3 = load(sorted(glob.glob(\"out/results/prize3_*.json\")))\n",
    "prize4 = load(sorted(glob.glob(\"out/results/prize4_*.json\")))\n",
    "\n",
    "prize_5K = load(sorted(glob.glob(\"out/results/prize5K_*.json\")))\n",
    "prize_10K = load(sorted(glob.glob(\"out/results/prize10K_*.json\")))\n",
    "prize_20K = load(sorted(glob.glob(\"out/results/prize20K_*.json\")))"
   ]
  },
  {
   "cell_type": "markdown",
   "metadata": {},
   "source": [
    "### Basic statistics\n",
    "\n",
    "First we consider some basic statistics about the overall route planning.\n",
    "This includes average route duration, number of vehicles used, number of stops in a day, etc."
   ]
  },
  {
   "cell_type": "code",
   "execution_count": 12,
   "metadata": {},
   "outputs": [
    {
     "name": "stdout",
     "output_type": "stream",
     "text": [
      "Avg distance      : 170.1 km\n",
      "Avg duration      : 5.6 hours\n",
      "Avg service level : 96.4%\n",
      "Avg excess volume : 2350.8 litres\n",
      "Avg clusters      : 148.0\n",
      "Avg #routes       : 3.0\n",
      "Max #unserved     : 166\n",
      "Avg fill rate     : 68.8%\n"
     ]
    }
   ],
   "source": [
    "report(baseline3)  # 3 vehicles, 148 clusters"
   ]
  },
  {
   "cell_type": "code",
   "execution_count": 13,
   "metadata": {},
   "outputs": [
    {
     "name": "stdout",
     "output_type": "stream",
     "text": [
      "Avg distance      : 215.7 km\n",
      "Avg duration      : 7.5 hours\n",
      "Avg service level : 99.5%\n",
      "Avg excess volume : 1101.3 litres\n",
      "Avg clusters      : 200.0\n",
      "Avg #routes       : 3.0\n",
      "Max #unserved     : 5\n",
      "Avg fill rate     : 61.2%\n"
     ]
    }
   ],
   "source": [
    "report(baseline200)  # 3 vehicles, 200 clusters"
   ]
  },
  {
   "cell_type": "code",
   "execution_count": 14,
   "metadata": {},
   "outputs": [
    {
     "name": "stdout",
     "output_type": "stream",
     "text": [
      "Avg distance      : 251.3 km\n",
      "Avg duration      : 6.8 hours\n",
      "Avg service level : 99.9%\n",
      "Avg excess volume : 1591.7 litres\n",
      "Avg clusters      : 250.0\n",
      "Avg #routes       : 4.0\n",
      "Max #unserved     : 5\n",
      "Avg fill rate     : 48.9%\n"
     ]
    }
   ],
   "source": [
    "report(baseline250)  # regular baseline: 4 vehicles, 250 clusters"
   ]
  },
  {
   "cell_type": "code",
   "execution_count": 15,
   "metadata": {},
   "outputs": [
    {
     "name": "stdout",
     "output_type": "stream",
     "text": [
      "Avg distance      : 151.0 km\n",
      "Avg duration      : 5.4 hours\n",
      "Avg service level : 99.2%\n",
      "Avg excess volume : 110.5 litres\n",
      "Avg clusters      : 147.4\n",
      "Avg #routes       : 3.0\n",
      "Max #unserved     : 4\n",
      "Avg fill rate     : 83.0%\n"
     ]
    }
   ],
   "source": [
    "report(prize3)  # prize-collecting, 3 vehicles"
   ]
  },
  {
   "cell_type": "code",
   "execution_count": 16,
   "metadata": {},
   "outputs": [
    {
     "name": "stdout",
     "output_type": "stream",
     "text": [
      "Avg distance      : 139.8 km\n",
      "Avg duration      : 3.7 hours\n",
      "Avg service level : 99.6%\n",
      "Avg excess volume : 91.9 litres\n",
      "Avg clusters      : 148.6\n",
      "Avg #routes       : 4.0\n",
      "Max #unserved     : 4\n",
      "Avg fill rate     : 82.3%\n"
     ]
    }
   ],
   "source": [
    "report(prize4)  # regular prize-collecting, 4 vehicles"
   ]
  },
  {
   "cell_type": "code",
   "execution_count": 17,
   "metadata": {},
   "outputs": [
    {
     "name": "stdout",
     "output_type": "stream",
     "text": [
      "Avg distance      : 113.9 km\n",
      "Avg duration      : 3.2 hours\n",
      "Avg service level : 95.6%\n",
      "Avg excess volume : 419.8 litres\n",
      "Avg clusters      : 139.9\n",
      "Avg #routes       : 4.0\n",
      "Max #unserved     : 4\n",
      "Avg fill rate     : 87.4%\n"
     ]
    }
   ],
   "source": [
    "report(prize_5K)  # regular prize-collecting, with rho = 5_000"
   ]
  },
  {
   "cell_type": "code",
   "execution_count": 18,
   "metadata": {},
   "outputs": [
    {
     "name": "stdout",
     "output_type": "stream",
     "text": [
      "Avg distance      : 125.3 km\n",
      "Avg duration      : 3.4 hours\n",
      "Avg service level : 97.5%\n",
      "Avg excess volume : 158.9 litres\n",
      "Avg clusters      : 142.3\n",
      "Avg #routes       : 4.0\n",
      "Max #unserved     : 4\n",
      "Avg fill rate     : 85.9%\n"
     ]
    }
   ],
   "source": [
    "report(prize_10K)  # regular prize-collecting, with rho = 10_000"
   ]
  },
  {
   "cell_type": "code",
   "execution_count": 19,
   "metadata": {},
   "outputs": [
    {
     "name": "stdout",
     "output_type": "stream",
     "text": [
      "Avg distance      : 132.0 km\n",
      "Avg duration      : 3.5 hours\n",
      "Avg service level : 98.6%\n",
      "Avg excess volume : 116.1 litres\n",
      "Avg clusters      : 144.2\n",
      "Avg #routes       : 4.0\n",
      "Max #unserved     : 4\n",
      "Avg fill rate     : 84.8%\n"
     ]
    }
   ],
   "source": [
    "report(prize_20K)  # regular prize-collecting, with rho = 20_000"
   ]
  },
  {
   "cell_type": "markdown",
   "metadata": {},
   "source": [
    "### Average distance vs. service level\n",
    "\n",
    "The figure below compares average distance traveled per day (the total distance of all routes on a day) against the average service level that's achieved by a strategy.\n",
    "Typically, as the distance increases, the service level should go up: more containers are visited, etc.\n",
    "The key is to balance the two."
   ]
  },
  {
   "cell_type": "code",
   "execution_count": 20,
   "metadata": {},
   "outputs": [
    {
     "data": {
      "image/png": "[encoded data removed]",
      "text/plain": [
       "<Figure size 400x400 with 1 Axes>"
      ]
     },
     "metadata": {},
     "output_type": "display_data"
    }
   ],
   "source": [
    "_, ax = plt.subplots(figsize=(4, 4), layout=\"constrained\")\n",
    "\n",
    "for idx, (data, marker) in enumerate(zip(\n",
    "    [baseline3, baseline200, baseline250],\n",
    "    [\"^\", \"^\", \"s\"],\n",
    ")):\n",
    "    ax.scatter(\n",
    "        x=[data.avg_service_level.mean()],\n",
    "        y=[data.avg_distance.mean()],\n",
    "        marker=marker,\n",
    "        c=\"gray\",\n",
    "    )\n",
    "\n",
    "for idx, (data, marker) in enumerate(zip(\n",
    "    [prize3, prize4, prize_5K, prize_10K, prize_20K],\n",
    "    [\"^\", \"s\", \"s\", \"s\", \"s\"],\n",
    ")):\n",
    "    ax.scatter(\n",
    "        x=[data.avg_service_level.mean()],\n",
    "        y=[data.avg_distance.mean()],\n",
    "        marker=marker,\n",
    "        c=\"black\",\n",
    "    )\n",
    "\n",
    "ticks = mtick.FuncFormatter(lambda x, _: \"{0:g}\".format(x / 1_000))\n",
    "ax.yaxis.set_major_formatter(ticks)\n",
    "\n",
    "ax.xaxis.set_major_formatter(mtick.PercentFormatter(xmax=1, decimals=0))\n",
    "ax.set_xlim([0.92 - 0.0005, 1 + 0.0005])\n",
    "ax.set_ylim([0, 300_000])\n",
    "\n",
    "legend1 = plt.legend(\n",
    "    [\n",
    "        Line2D([0], [0], color=\"gray\", marker=\"^\", linestyle=\"\"),\n",
    "        Line2D([0], [0], color=\"grey\", marker=\"s\", linestyle=\"\"),\n",
    "    ],\n",
    "    [\"3 vehicles\", \"4 vehicles\"],\n",
    "    frameon=False,\n",
    "    title=\"Baseline\",\n",
    "    loc=\"lower left\",\n",
    ")\n",
    "\n",
    "legend2 = plt.legend(\n",
    "    [\n",
    "        Line2D([0], [0], color=\"black\", marker=\"^\", linestyle=\"\"),\n",
    "        Line2D([0], [0], color=\"black\", marker=\"s\", linestyle=\"\"),\n",
    "    ],\n",
    "    [\"3 vehicles\", \"4 vehicles\"],\n",
    "    frameon=False,\n",
    "    title=\"Prize-collecting\",\n",
    "    loc=\"lower right\",\n",
    ")\n",
    "\n",
    "plt.gca().add_artist(legend1)\n",
    "\n",
    "ax.set_xlabel(\"Average service level (\\%)\")\n",
    "ax.set_ylabel(\"Average daily distance (km)\")\n",
    "\n",
    "# Labels explaining some of the data points in more detail. Some manual\n",
    "# offsetting is needed to make this look nice.\n",
    "ax.text(0.94, 165_000, \"148 containers\")\n",
    "ax.text(0.971, 212_500, \"200 containers\")\n",
    "ax.text(0.974, 247_500, \"250 containers\")\n",
    "\n",
    "xy = (\n",
    "    prize_5K.avg_service_level.mean() - 0.00125,\n",
    "    prize_5K.avg_distance.mean() - 5_000\n",
    ")\n",
    "ax.annotate(\"$\\\\rho = 5$ km\", xy, xytext=(0.94, 85_000),\n",
    "            arrowprops=dict(arrowstyle=\"->\"))\n",
    "\n",
    "xy = (\n",
    "    prize_10K.avg_service_level.mean(),\n",
    "    prize_10K.avg_distance.mean() - 5_000\n",
    ")\n",
    "ax.annotate(\"$\\\\rho = 10$ km\", xy, xytext=(0.965, 85_000),\n",
    "            arrowprops=dict(arrowstyle=\"->\"))\n",
    "\n",
    "xy = (\n",
    "    prize_20K.avg_service_level.mean(),\n",
    "    prize_20K.avg_distance.mean() - 5_000\n",
    ")\n",
    "ax.annotate(\"$\\\\rho = 20$ km\", xy, xytext=(0.98, 102_500),\n",
    "            arrowprops=dict(arrowstyle=\"->\"))\n",
    "\n",
    "xy = (\n",
    "    prize4.avg_service_level.mean(),\n",
    "    prize4.avg_distance.mean() + 5_000\n",
    ")\n",
    "ax.annotate(\"$\\\\rho = 128$ km\", xy, xytext=(0.981, 180_000),\n",
    "            arrowprops=dict(arrowstyle=\"->\"))\n",
    "\n",
    "xy = (\n",
    "    prize3.avg_service_level.mean(),\n",
    "    prize3.avg_distance.mean() + 5_000\n",
    ")\n",
    "ax.annotate(\"$\\\\rho = 128$ km\", xy, xytext=(0.98, 177_500), alpha=0.0,\n",
    "            arrowprops=dict(arrowstyle=\"->\"))\n",
    "\n",
    "plt.savefig(\"out/baseline_vs_prize.pdf\", transparent=True)"
   ]
  },
  {
   "cell_type": "code",
   "execution_count": 21,
   "metadata": {},
   "outputs": [
    {
     "data": {
      "image/png": "[encoded data removed]",
      "text/plain": [
       "<Figure size 400x400 with 1 Axes>"
      ]
     },
     "metadata": {},
     "output_type": "display_data"
    }
   ],
   "source": [
    "policies = (\"Baseline\", \"Prize-collecting\")\n",
    "data = {\n",
    "    \"3 vehicles\": (baseline200, prize3),\n",
    "    \"4 vehicles\": (baseline250, prize4),\n",
    "}\n",
    "\n",
    "x = np.arange(len(policies))\n",
    "width = 0.35\n",
    "multiplier = 0\n",
    "\n",
    "fig, ax = plt.subplots(layout=\"constrained\", figsize=(4, 4))\n",
    "\n",
    "colors = plt.get_cmap(\"gray\")\n",
    "colors = colors([0, 1/3])\n",
    "\n",
    "for (attr, (base, prize)), color in zip(data.items(), colors):\n",
    "    measurement = (\n",
    "        base.avg_excess_volume.mean(),\n",
    "        prize.avg_excess_volume.mean(),\n",
    "    )\n",
    "    offset = width * (multiplier + 0.5)\n",
    "    rects = ax.bar(x + offset, measurement, width, label=attr, color=color)\n",
    "    ax.bar_label(rects, fmt=\"{:.0f}\", padding=3)\n",
    "    multiplier += 1\n",
    "\n",
    "ax.set_ylabel(\"Average overflow volume (L)\")\n",
    "ax.set_xticks(x + width, policies)\n",
    "ax.legend(loc=\"upper right\", frameon=False)\n",
    "ax.set_ylim(0, 2_000)\n",
    "\n",
    "plt.savefig(\"out/avg_overflow_volume.pdf\", transparent=True)"
   ]
  },
  {
   "cell_type": "code",
   "execution_count": null,
   "metadata": {},
   "outputs": [],
   "source": []
  }
 ],
 "metadata": {
  "kernelspec": {
   "display_name": ".venv",
   "language": "python",
   "name": "python3"
  },
  "language_info": {
   "codemirror_mode": {
    "name": "ipython",
    "version": 3
   },
   "file_extension": ".py",
   "mimetype": "text/x-python",
   "name": "python",
   "nbconvert_exporter": "python",
   "pygments_lexer": "ipython3",
   "version": "3.11.4"
  },
  "orig_nbformat": 4
 },
 "nbformat": 4,
 "nbformat_minor": 2
}
