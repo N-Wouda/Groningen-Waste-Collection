{
 "cells": [
  {
   "cell_type": "code",
   "execution_count": 1,
   "id": "a89d6636-0106-4cc0-8269-3e2a848f8949",
   "metadata": {},
   "outputs": [
    {
     "name": "stdout",
     "output_type": "stream",
     "text": [
      "C:\\Projects\\Groningen-Waste-Collection\n"
     ]
    }
   ],
   "source": [
    "%cd .."
   ]
  },
  {
   "cell_type": "code",
   "execution_count": 2,
   "id": "ece082fb-8bd3-449e-ae54-67a4d840716f",
   "metadata": {},
   "outputs": [],
   "source": [
    "import pandas as pd"
   ]
  },
  {
   "cell_type": "markdown",
   "id": "ff56a3ed-61f3-4434-b756-a5d34a5a1004",
   "metadata": {},
   "source": [
    "## Fill-rate sensor data\n",
    "\n",
    "This is data from a small pilot of around thirty containers where fill rate sensors have been installed.\n",
    "Such sensors accurately track the fill rate of each container.\n",
    "We have around 500 observations of the actual fill rate when the container was emptied."
   ]
  },
  {
   "cell_type": "code",
   "execution_count": 3,
   "id": "be0d5bdc-e465-4650-aeb4-8ed039efd5ad",
   "metadata": {},
   "outputs": [
    {
     "data": {
      "text/html": [
       "<div>\n",
       "<style scoped>\n",
       "    .dataframe tbody tr th:only-of-type {\n",
       "        vertical-align: middle;\n",
       "    }\n",
       "\n",
       "    .dataframe tbody tr th {\n",
       "        vertical-align: top;\n",
       "    }\n",
       "\n",
       "    .dataframe thead th {\n",
       "        text-align: right;\n",
       "    }\n",
       "</style>\n",
       "<table border=\"1\" class=\"dataframe\">\n",
       "  <thead>\n",
       "    <tr style=\"text-align: right;\">\n",
       "      <th></th>\n",
       "      <th>Geleegd op</th>\n",
       "      <th>Containernummer</th>\n",
       "      <th>Ledigingnummer</th>\n",
       "      <th>Capaciteit m³</th>\n",
       "      <th>Volume correctiefactor</th>\n",
       "      <th>Max aantal stortingen</th>\n",
       "      <th>% per klikbeweging</th>\n",
       "      <th>Daadwerkelijk aantal klikbewegingen</th>\n",
       "      <th>Vulgraad obv kliks in %</th>\n",
       "      <th>Daadwerkelijk vol %</th>\n",
       "      <th>Vulgraad per klik in %</th>\n",
       "    </tr>\n",
       "  </thead>\n",
       "  <tbody>\n",
       "    <tr>\n",
       "      <th>0</th>\n",
       "      <td>1-7-2023</td>\n",
       "      <td>695</td>\n",
       "      <td>1</td>\n",
       "      <td>5</td>\n",
       "      <td>1.00</td>\n",
       "      <td>85</td>\n",
       "      <td>1.176471</td>\n",
       "      <td>77.3500</td>\n",
       "      <td>91</td>\n",
       "      <td>48</td>\n",
       "      <td>0.620556</td>\n",
       "    </tr>\n",
       "    <tr>\n",
       "      <th>1</th>\n",
       "      <td>1-7-2023</td>\n",
       "      <td>271</td>\n",
       "      <td>2</td>\n",
       "      <td>5</td>\n",
       "      <td>0.95</td>\n",
       "      <td>85</td>\n",
       "      <td>1.238390</td>\n",
       "      <td>112.2425</td>\n",
       "      <td>139</td>\n",
       "      <td>97</td>\n",
       "      <td>0.864200</td>\n",
       "    </tr>\n",
       "    <tr>\n",
       "      <th>2</th>\n",
       "      <td>2-7-2023</td>\n",
       "      <td>115</td>\n",
       "      <td>3</td>\n",
       "      <td>4</td>\n",
       "      <td>0.95</td>\n",
       "      <td>70</td>\n",
       "      <td>1.503759</td>\n",
       "      <td>61.8450</td>\n",
       "      <td>93</td>\n",
       "      <td>60</td>\n",
       "      <td>0.970167</td>\n",
       "    </tr>\n",
       "    <tr>\n",
       "      <th>3</th>\n",
       "      <td>3-7-2023</td>\n",
       "      <td>890</td>\n",
       "      <td>4</td>\n",
       "      <td>5</td>\n",
       "      <td>0.95</td>\n",
       "      <td>85</td>\n",
       "      <td>1.238390</td>\n",
       "      <td>96.0925</td>\n",
       "      <td>119</td>\n",
       "      <td>81</td>\n",
       "      <td>0.842938</td>\n",
       "    </tr>\n",
       "    <tr>\n",
       "      <th>4</th>\n",
       "      <td>5-7-2023</td>\n",
       "      <td>63</td>\n",
       "      <td>5</td>\n",
       "      <td>4</td>\n",
       "      <td>0.95</td>\n",
       "      <td>70</td>\n",
       "      <td>1.503759</td>\n",
       "      <td>60.5150</td>\n",
       "      <td>91</td>\n",
       "      <td>85</td>\n",
       "      <td>1.404610</td>\n",
       "    </tr>\n",
       "  </tbody>\n",
       "</table>\n",
       "</div>"
      ],
      "text/plain": [
       "  Geleegd op  Containernummer  Ledigingnummer  Capaciteit m³  \\\n",
       "0   1-7-2023              695               1              5   \n",
       "1   1-7-2023              271               2              5   \n",
       "2   2-7-2023              115               3              4   \n",
       "3   3-7-2023              890               4              5   \n",
       "4   5-7-2023               63               5              4   \n",
       "\n",
       "   Volume correctiefactor  Max aantal stortingen  % per klikbeweging  \\\n",
       "0                    1.00                     85            1.176471   \n",
       "1                    0.95                     85            1.238390   \n",
       "2                    0.95                     70            1.503759   \n",
       "3                    0.95                     85            1.238390   \n",
       "4                    0.95                     70            1.503759   \n",
       "\n",
       "   Daadwerkelijk aantal klikbewegingen  Vulgraad obv kliks in %  \\\n",
       "0                              77.3500                       91   \n",
       "1                             112.2425                      139   \n",
       "2                              61.8450                       93   \n",
       "3                              96.0925                      119   \n",
       "4                              60.5150                       91   \n",
       "\n",
       "   Daadwerkelijk vol %  Vulgraad per klik in %  \n",
       "0                   48                0.620556  \n",
       "1                   97                0.864200  \n",
       "2                   60                0.970167  \n",
       "3                   81                0.842938  \n",
       "4                   85                1.404610  "
      ]
     },
     "execution_count": 3,
     "metadata": {},
     "output_type": "execute_result"
    }
   ],
   "source": [
    "df = pd.read_excel(\"data/Data pilot OGC - sensordata.xlsm\")\n",
    "df.head()"
   ]
  },
  {
   "cell_type": "code",
   "execution_count": 4,
   "id": "2c1a1f74-6b3e-4bb9-b9cd-089093cd0430",
   "metadata": {},
   "outputs": [
    {
     "data": {
      "text/plain": [
       "473"
      ]
     },
     "execution_count": 4,
     "metadata": {},
     "output_type": "execute_result"
    }
   ],
   "source": [
    "len(df)"
   ]
  },
  {
   "cell_type": "markdown",
   "id": "66e29ddb-893d-415e-9fbc-2b8afdbba029",
   "metadata": {},
   "source": [
    "We next determine the container's filled volume when being emptied (based on the actual sensor data), and plot a histogram of the average volume per deposit.\n",
    "By virtue of the CLT, that should be fairly normally distributed, but the mean, min, and max values should hopefully still tell us something about the spread."
   ]
  },
  {
   "cell_type": "code",
   "execution_count": 5,
   "id": "3ec58ee6-a511-4ab7-b02f-6e92d5a43605",
   "metadata": {},
   "outputs": [
    {
     "data": {
      "text/plain": [
       "<Axes: >"
      ]
     },
     "execution_count": 5,
     "metadata": {},
     "output_type": "execute_result"
    },
    {
     "data": {
      "image/png": "[encoded data removed]",
      "text/plain": [
       "<Figure size 640x480 with 1 Axes>"
      ]
     },
     "metadata": {},
     "output_type": "display_data"
    }
   ],
   "source": [
    "volume = (1000 * df[\"Capaciteit m³\"]) * (df[\"Daadwerkelijk vol %\"] / 100)  # in liters\n",
    "avg_volume = volume / df[\"Daadwerkelijk aantal klikbewegingen\"]\n",
    "avg_volume.hist()"
   ]
  },
  {
   "cell_type": "code",
   "execution_count": 6,
   "id": "af134d13-651f-48b1-9f02-7c9aeee8a602",
   "metadata": {},
   "outputs": [
    {
     "data": {
      "text/plain": [
       "33.41820047261556"
      ]
     },
     "execution_count": 6,
     "metadata": {},
     "output_type": "execute_result"
    }
   ],
   "source": [
    "avg_volume.mean()"
   ]
  },
  {
   "cell_type": "code",
   "execution_count": 7,
   "id": "fb66f3bf-aedd-4e85-a5d9-e93d09575958",
   "metadata": {},
   "outputs": [
    {
     "data": {
      "text/plain": [
       "12.549019607843137"
      ]
     },
     "execution_count": 7,
     "metadata": {},
     "output_type": "execute_result"
    }
   ],
   "source": [
    "avg_volume.min()"
   ]
  },
  {
   "cell_type": "code",
   "execution_count": 8,
   "id": "9453032c-9eae-455e-ac45-495e7e1583be",
   "metadata": {},
   "outputs": [
    {
     "data": {
      "text/plain": [
       "57.065741276267595"
      ]
     },
     "execution_count": 8,
     "metadata": {},
     "output_type": "execute_result"
    }
   ],
   "source": [
    "avg_volume.max()"
   ]
  },
  {
   "cell_type": "code",
   "execution_count": null,
   "id": "b0ceb248-f9bb-4e15-800d-08f086c430df",
   "metadata": {},
   "outputs": [],
   "source": []
  }
 ],
 "metadata": {
  "kernelspec": {
   "display_name": "Python 3 (ipykernel)",
   "language": "python",
   "name": "python3"
  },
  "language_info": {
   "codemirror_mode": {
    "name": "ipython",
    "version": 3
   },
   "file_extension": ".py",
   "mimetype": "text/x-python",
   "name": "python",
   "nbconvert_exporter": "python",
   "pygments_lexer": "ipython3",
   "version": "3.11.4"
  }
 },
 "nbformat": 4,
 "nbformat_minor": 5
}
